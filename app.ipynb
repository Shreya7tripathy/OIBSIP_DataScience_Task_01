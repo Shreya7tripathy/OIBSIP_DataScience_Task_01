{
 "cells": [
  {
   "cell_type": "code",
   "execution_count": 1,
   "id": "d0dc685a-a4f5-462e-bbbf-714765d22453",
   "metadata": {},
   "outputs": [],
   "source": [
    "import streamlit as st\n",
    "import pickle \n",
    "import pandas as pd\n"
   ]
  },
  {
   "cell_type": "code",
   "execution_count": 3,
   "id": "9554695b-d131-489d-b69c-55febf3e46df",
   "metadata": {},
   "outputs": [],
   "source": [
    "#reading the encoder, model and scaler object files\n",
    "encoder = pickle.load(open(\"encoder.pkl\", 'rb'))\n",
    "model = pickle.load(open(\"model.pkl\", 'rb'))\n",
    "scaler = pickle.load(open(\"scaler.pkl\", 'rb'))"
   ]
  },
  {
   "cell_type": "code",
   "execution_count": 4,
   "id": "91714c3c-6517-435d-a440-fe117e25ddb4",
   "metadata": {},
   "outputs": [
    {
     "name": "stderr",
     "output_type": "stream",
     "text": [
      "2024-02-01 22:43:06.007 \n",
      "  \u001b[33m\u001b[1mWarning:\u001b[0m to view this Streamlit app on a browser, run it with the following\n",
      "  command:\n",
      "\n",
      "    streamlit run C:\\Users\\Shreya Tripathy\\AppData\\Local\\Programs\\Python\\Python311\\Lib\\site-packages\\ipykernel_launcher.py [ARGUMENTS]\n"
     ]
    }
   ],
   "source": [
    "#setting the title and text\n",
    "st.title(\"🌼Iris Flower Classification🌷\")\n",
    "st.write(\"*Made by Shreya😊💁‍♀️💻 *\")"
   ]
  },
  {
   "cell_type": "code",
   "execution_count": 5,
   "id": "6099497c-4533-4ed9-9f3b-48f7fb2105e7",
   "metadata": {},
   "outputs": [],
   "source": [
    "#taking the input from user\n",
    "newSL = st.number_input(\"Enter sepalLength (cm):\", min_value=0.0)\n",
    "newSW = st.number_input(\"Enter sepalWidth (cm):\", min_value=0.0)\n",
    "newPL = st.number_input(\"Enter petalLength (cm):\", min_value=0.0)\n",
    "newPW = st.number_input(\"Enter petalWidth (cm):\", min_value=0.0)"
   ]
  },
  {
   "cell_type": "code",
   "execution_count": 6,
   "id": "13ea5c6e-1f91-458f-8a4f-894f262d06d0",
   "metadata": {},
   "outputs": [],
   "source": [
    "#button to trigger the classification\n",
    "if st.button(\"Classify\"):\n",
    "    newValue = pd.DataFrame([[newSL, newSW, newPL, newPW]])\n",
    "    newValue = scaler.transform(newValue)\n",
    "    prediction = model.predict(newValue)\n",
    "    finalAns = encoder.inverse_transform(prediction)\n",
    "    st.markdown(f\"Prediction result: **{finalAns[0]}**\")"
   ]
  },
  {
   "cell_type": "code",
   "execution_count": null,
   "id": "0295fbe2-2615-44d8-91fa-a9973c1ea121",
   "metadata": {},
   "outputs": [],
   "source": []
  }
 ],
 "metadata": {
  "kernelspec": {
   "display_name": "Python 3 (ipykernel)",
   "language": "python",
   "name": "python3"
  },
  "language_info": {
   "codemirror_mode": {
    "name": "ipython",
    "version": 3
   },
   "file_extension": ".py",
   "mimetype": "text/x-python",
   "name": "python",
   "nbconvert_exporter": "python",
   "pygments_lexer": "ipython3",
   "version": "3.11.5"
  }
 },
 "nbformat": 4,
 "nbformat_minor": 5
}
